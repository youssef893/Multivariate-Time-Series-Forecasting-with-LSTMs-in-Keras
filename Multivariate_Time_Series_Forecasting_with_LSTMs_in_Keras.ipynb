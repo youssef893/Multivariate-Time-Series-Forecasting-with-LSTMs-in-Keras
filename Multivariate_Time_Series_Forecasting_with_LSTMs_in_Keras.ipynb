{
  "nbformat": 4,
  "nbformat_minor": 0,
  "metadata": {
    "colab": {
      "provenance": [],
      "authorship_tag": "ABX9TyN6qMXD6rYTLMfwNSCiJT7U",
      "include_colab_link": true
    },
    "kernelspec": {
      "name": "python3",
      "display_name": "Python 3"
    },
    "language_info": {
      "name": "python"
    },
    "accelerator": "GPU",
    "gpuClass": "standard"
  },
  "cells": [
    {
      "cell_type": "markdown",
      "metadata": {
        "id": "view-in-github",
        "colab_type": "text"
      },
      "source": [
        "<a href=\"https://colab.research.google.com/github/youssef893/Multivariate-Time-Series-Forecasting-with-LSTMs-in-Keras/blob/main/Multivariate_Time_Series_Forecasting_with_LSTMs_in_Keras.ipynb\" target=\"_parent\"><img src=\"https://colab.research.google.com/assets/colab-badge.svg\" alt=\"Open In Colab\"/></a>"
      ]
    },
    {
      "cell_type": "markdown",
      "source": [
        "# This project from ==> https://machinelearningmastery.com/multivariate-time-series-forecasting-lstms-keras/"
      ],
      "metadata": {
        "id": "Y0gCnNm5pNBJ"
      }
    },
    {
      "cell_type": "markdown",
      "source": [
        "  "
      ],
      "metadata": {
        "id": "pmolPRKupV5M"
      }
    },
    {
      "cell_type": "markdown",
      "source": [
        "# Air Pollution Forecasting\n",
        "we are going to use the Air Quality dataset.\n",
        "\n",
        "This is a dataset that reports on the weather and the level of pollution each hour for five years at the US embassy in Beijing, China.\n",
        "\n",
        "The data includes the date-time, the pollution called PM2.5 concentration, and the weather information including dew point, temperature, pressure, wind direction, wind speed and the cumulative number of hours of snow and rain. The complete feature list in the raw data is as follows:\n",
        "\n",
        "No: row number\n",
        "year: year of data in this row\n",
        "month: month of data in this row\n",
        "day: day of data in this row\n",
        "hour: hour of data in this row\n",
        "pm2.5: PM2.5 concentration\n",
        "DEWP: Dew Point\n",
        "TEMP: Temperature\n",
        "PRES: Pressure\n",
        "cbwd: Combined wind direction\n",
        "Iws: Cumulated wind speed\n",
        "Is: Cumulated hours of snow\n",
        "Ir: Cumulated hours of rain\n",
        "We can use this data and frame a forecasting problem where, given the weather conditions and pollution for prior hours, we forecast the pollution at the next hour.\n",
        "\n",
        "This dataset can be used to frame other forecasting problems.\n",
        "Do you have good ideas? Let me know in the comments below."
      ],
      "metadata": {
        "id": "ei9ypdEqlZ3U"
      }
    },
    {
      "cell_type": "code",
      "source": [
        "from math import sqrt\n",
        "from numpy import concatenate\n",
        "from pandas import read_csv\n",
        "from pandas import DataFrame\n",
        "from pandas import concat\n",
        "from sklearn.preprocessing import LabelEncoder\n",
        "from sklearn.preprocessing import MinMaxScaler\n",
        "from datetime import datetime\n",
        "from matplotlib import pyplot\n",
        "from keras.models import Sequential\n",
        "from keras.layers import Dense\n",
        "from keras.layers import LSTM\n",
        "from sklearn.metrics import mean_squared_error"
      ],
      "metadata": {
        "id": "GMu1PSfPoyhH"
      },
      "execution_count": 32,
      "outputs": []
    },
    {
      "cell_type": "markdown",
      "source": [
        "# Data Prepration\n",
        "Below are the first few rows of the raw dataset.\n",
        "\n",
        "No,year,month,day,hour,pm2.5,DEWP,TEMP,PRES,cbwd,Iws,Is,Ir\n",
        "1,2010,1,1,0,NA,-21,-11,1021,NW,1.79,0,0\n",
        "2,2010,1,1,1,NA,-21,-12,1020,NW,4.92,0,0\n",
        "3,2010,1,1,2,NA,-21,-11,1019,NW,6.71,0,0\n",
        "4,2010,1,1,3,NA,-21,-14,1019,NW,9.84,0,0\n",
        "5,2010,1,1,4,NA,-20,-12,1018,NW,12.97,0,0\n",
        "The first step is to consolidate the date-time information into a single date-time so that we can use it as an index in Pandas.\n",
        "\n",
        "A quick check reveals NA values for pm2.5 for the first 24 hours. We will, therefore, need to remove the first row of data. There are also a few scattered “NA” values later in the dataset; we can mark them with 0 values for now.\n",
        "\n",
        "The script below loads the raw dataset and parses the date-time information as the Pandas DataFrame index. The “No” column is dropped and then clearer names are specified for each column. Finally, the NA values are replaced with “0” values and the first 24 hours are removed.\n",
        "\n",
        "The “No” column is dropped and then clearer names are specified for each column. Finally, the NA values are replaced with “0” values and the first 24 hours are removed."
      ],
      "metadata": {
        "id": "ErYL4lywl2a_"
      }
    },
    {
      "cell_type": "code",
      "execution_count": 33,
      "metadata": {
        "colab": {
          "base_uri": "https://localhost:8080/"
        },
        "id": "ejYfqJr9krYO",
        "outputId": "21725728-b9b3-4fa9-b8df-991efd19919c"
      },
      "outputs": [
        {
          "output_type": "stream",
          "name": "stdout",
          "text": [
            "                     pollution  dew  temp   press wnd_dir  wnd_spd  snow  rain\n",
            "date                                                                          \n",
            "2010-01-02 00:00:00      129.0  -16  -4.0  1020.0      SE     1.79     0     0\n",
            "2010-01-02 01:00:00      148.0  -15  -4.0  1020.0      SE     2.68     0     0\n",
            "2010-01-02 02:00:00      159.0  -11  -5.0  1021.0      SE     3.57     0     0\n",
            "2010-01-02 03:00:00      181.0   -7  -5.0  1022.0      SE     5.36     1     0\n",
            "2010-01-02 04:00:00      138.0   -7  -5.0  1022.0      SE     6.25     2     0\n"
          ]
        }
      ],
      "source": [
        "# load data\n",
        "def parse(x):\n",
        "\treturn datetime.strptime(x, '%Y %m %d %H')\n",
        "dataset = read_csv('raw.txt',  parse_dates = [['year', 'month', 'day', 'hour']], index_col=0, date_parser=parse)\n",
        "dataset.drop('No', axis=1, inplace=True)\n",
        "# manually specify column names\n",
        "dataset.columns = ['pollution', 'dew', 'temp', 'press', 'wnd_dir', 'wnd_spd', 'snow', 'rain']\n",
        "dataset.index.name = 'date'\n",
        "# mark all NA values with 0\n",
        "dataset['pollution'].fillna(0, inplace=True)\n",
        "# drop the first 24 hours\n",
        "dataset = dataset[24:]\n",
        "# summarize first 5 rows\n",
        "print(dataset.head(5))\n",
        "# save to file\n",
        "dataset.to_csv('pollution.csv')"
      ]
    },
    {
      "cell_type": "code",
      "source": [
        "# load dataset\n",
        "dataset = read_csv('pollution.csv', header=0, index_col=0)\n",
        "values = dataset.values\n",
        "# specify columns to plot\n",
        "groups = [0, 1, 2, 3, 5, 6, 7]\n",
        "i = 1\n",
        "# plot each column\n",
        "pyplot.figure()\n",
        "for group in groups:\n",
        "\tpyplot.subplot(len(groups), 1, i)\n",
        "\tpyplot.plot(values[:, group])\n",
        "\tpyplot.title(dataset.columns[group], y=0.5, loc='right')\n",
        "\ti += 1\n",
        "pyplot.show()"
      ],
      "metadata": {
        "colab": {
          "base_uri": "https://localhost:8080/",
          "height": 268
        },
        "id": "6dVVW9JTmEqG",
        "outputId": "4a3a71fe-799d-4270-f5b5-1c0ec49e72ac"
      },
      "execution_count": 34,
      "outputs": [
        {
          "output_type": "display_data",
          "data": {
            "text/plain": [
              "<Figure size 432x288 with 7 Axes>"
            ],
            "image/png": "[encoded data removed]"
          },
          "metadata": {
            "needs_background": "light"
          }
        }
      ]
    },
    {
      "cell_type": "markdown",
      "source": [
        "# LSTM Data Preparation\n",
        "The first step is to prepare the pollution dataset for the LSTM.\n",
        "\n",
        "This involves framing the dataset as a supervised learning problem and normalizing the input variables.\n",
        "\n",
        "We will frame the supervised learning problem as predicting the pollution at the current hour (t) given the pollution measurement and weather conditions at the prior time step.\n",
        "\n",
        "This formulation is straightforward and just for this demonstration. Some alternate formulations you could explore include:\n",
        "\n",
        "Predict the pollution for the next hour based on the weather conditions and pollution over the last 24 hours.\n",
        "Predict the pollution for the next hour as above and given the “expected” weather conditions for the next hour\n",
        "First, the “pollution.csv” dataset is loaded. The wind direction feature is label encoded (integer encoded). This could further be one-hot encoded in the future if you are interested in exploring it.\n",
        "\n",
        "Next, all features are normalized, then the dataset is transformed into a supervised learning problem. The weather variables for the hour to be predicted (t) are then removed."
      ],
      "metadata": {
        "id": "3KOrtVsrpEza"
      }
    },
    {
      "cell_type": "code",
      "source": [
        "# convert series to supervised learning\n",
        "def series_to_supervised(data, n_in=1, n_out=1, dropnan=True):\n",
        "\tn_vars = 1 if type(data) is list else data.shape[1]\n",
        "\tdf = DataFrame(data)\n",
        "\tcols, names = list(), list()\n",
        "\t# input sequence (t-n, ... t-1)\n",
        "\tfor i in range(n_in, 0, -1):\n",
        "\t\tcols.append(df.shift(i))\n",
        "\t\tnames += [('var%d(t-%d)' % (j+1, i)) for j in range(n_vars)]\n",
        "\t# forecast sequence (t, t+1, ... t+n)\n",
        "\tfor i in range(0, n_out):\n",
        "\t\tcols.append(df.shift(-i))\n",
        "\t\tif i == 0:\n",
        "\t\t\tnames += [('var%d(t)' % (j+1)) for j in range(n_vars)]\n",
        "\t\telse:\n",
        "\t\t\tnames += [('var%d(t+%d)' % (j+1, i)) for j in range(n_vars)]\n",
        "\t# put it all together\n",
        "\tagg = concat(cols, axis=1)\n",
        "\tagg.columns = names\n",
        "\t# drop rows with NaN values\n",
        "\tif dropnan:\n",
        "\t\tagg.dropna(inplace=True)\n",
        "\treturn agg"
      ],
      "metadata": {
        "id": "mtBUeAUCm9aX"
      },
      "execution_count": 35,
      "outputs": []
    },
    {
      "cell_type": "code",
      "source": [
        "values = dataset.values\n",
        "# integer encode direction\n",
        "encoder = LabelEncoder()\n",
        "values[:,4] = encoder.fit_transform(values[:,4])\n",
        "# ensure all data is float\n",
        "values = values.astype('float32')\n",
        "# normalize features\n",
        "scaler = MinMaxScaler(feature_range=(0, 1))\n",
        "scaled = scaler.fit_transform(values)\n",
        "# frame as supervised learning\n",
        "reframed = series_to_supervised(scaled, 1, 1)\n",
        "# drop columns we don't want to predict\n",
        "reframed.drop(reframed.columns[[9,10,11,12,13,14,15]], axis=1, inplace=True)\n",
        "print(reframed.head())"
      ],
      "metadata": {
        "colab": {
          "base_uri": "https://localhost:8080/"
        },
        "id": "uAyK5d6-pgTI",
        "outputId": "9d78224c-3f84-4f87-9d02-d113ea08b456"
      },
      "execution_count": 36,
      "outputs": [
        {
          "output_type": "stream",
          "name": "stdout",
          "text": [
            "   var1(t-1)  var2(t-1)  var3(t-1)  var4(t-1)  var5(t-1)  var6(t-1)  \\\n",
            "1   0.129779   0.352941   0.245902   0.527273   0.666667   0.002290   \n",
            "2   0.148893   0.367647   0.245902   0.527273   0.666667   0.003811   \n",
            "3   0.159960   0.426471   0.229508   0.545454   0.666667   0.005332   \n",
            "4   0.182093   0.485294   0.229508   0.563637   0.666667   0.008391   \n",
            "5   0.138833   0.485294   0.229508   0.563637   0.666667   0.009912   \n",
            "\n",
            "   var7(t-1)  var8(t-1)   var1(t)  \n",
            "1   0.000000        0.0  0.148893  \n",
            "2   0.000000        0.0  0.159960  \n",
            "3   0.000000        0.0  0.182093  \n",
            "4   0.037037        0.0  0.138833  \n",
            "5   0.074074        0.0  0.109658  \n"
          ]
        }
      ]
    },
    {
      "cell_type": "markdown",
      "source": [
        "# Define and Fit Model\n",
        "In this section, we will fit an LSTM on the multivariate input data.\n",
        "\n",
        "First, we must split the prepared dataset into train and test sets. To speed up the training of the model for this demonstration, we will only fit the model on the first year of data, then evaluate it on the remaining 4 years of data. If you have time, consider exploring the inverted version of this test harness.\n",
        "\n",
        "The example below splits the dataset into train and test sets, then splits the train and test sets into input and output variables. Finally, the inputs (X) are reshaped into the 3D format expected by LSTMs, namely [samples, timesteps, features]."
      ],
      "metadata": {
        "id": "cIeY4qCNqKef"
      }
    },
    {
      "cell_type": "code",
      "source": [
        "# split into train and test sets\n",
        "values = reframed.values\n",
        "n_train_hours = 365 * 24\n",
        "train = values[:n_train_hours, :]\n",
        "test = values[n_train_hours:, :]\n",
        "# split into input and outputs\n",
        "train_X, train_y = train[:, :-1], train[:, -1]\n",
        "test_X, test_y = test[:, :-1], test[:, -1]\n",
        "# reshape input to be 3D [samples, timesteps, features]\n",
        "train_X = train_X.reshape((train_X.shape[0], 1, train_X.shape[1]))\n",
        "test_X = test_X.reshape((test_X.shape[0], 1, test_X.shape[1]))\n",
        "print(train_X.shape, train_y.shape, test_X.shape, test_y.shape)"
      ],
      "metadata": {
        "colab": {
          "base_uri": "https://localhost:8080/"
        },
        "id": "DMcuBjRAphR2",
        "outputId": "e71ee1c2-2a09-4c95-d621-59dfdbc7059e"
      },
      "execution_count": 37,
      "outputs": [
        {
          "output_type": "stream",
          "name": "stdout",
          "text": [
            "(8760, 1, 8) (8760,) (35039, 1, 8) (35039,)\n"
          ]
        }
      ]
    },
    {
      "cell_type": "markdown",
      "source": [
        "We will define the LSTM with 50 neurons in the first hidden layer and 1 neuron in the output layer for predicting pollution. The input shape will be 1 time step with 8 features.\n",
        "\n",
        "We will use the Mean Absolute Error (MAE) loss function and the efficient Adam version of stochastic gradient descent.\n",
        "\n",
        "The model will be fit for 50 training epochs with a batch size of 72. Remember that the internal state of the LSTM in Keras is reset at the end of each batch, so an internal state that is a function of a number of days may be helpful (try testing this).\n",
        "\n",
        "Finally, we keep track of both the training and test loss during training by setting the validation_data argument in the fit() function. At the end of the run both the training and test loss are plotted."
      ],
      "metadata": {
        "id": "bZh0eyKfqUA5"
      }
    },
    {
      "cell_type": "code",
      "source": [
        "# design network\n",
        "model = Sequential()\n",
        "model.add(LSTM(50, input_shape=(train_X.shape[1], train_X.shape[2])))\n",
        "model.add(Dense(1))\n",
        "model.compile(loss='mae', optimizer='adam')\n",
        "# fit network\n",
        "history = model.fit(train_X, train_y, epochs=50, batch_size=72, validation_data=(test_X, test_y), verbose=1, shuffle=False)\n",
        "# plot history\n",
        "pyplot.plot(history.history['loss'], label='train')\n",
        "pyplot.plot(history.history['val_loss'], label='test')\n",
        "pyplot.legend()\n",
        "pyplot.show()"
      ],
      "metadata": {
        "colab": {
          "base_uri": "https://localhost:8080/",
          "height": 1000
        },
        "id": "M_w8QWBYqU3d",
        "outputId": "9491d4b3-ed61-48e1-c9a8-4353ca83393e"
      },
      "execution_count": 38,
      "outputs": [
        {
          "output_type": "stream",
          "name": "stdout",
          "text": [
            "Epoch 1/50\n",
            "122/122 [==============================] - 4s 17ms/step - loss: 0.0596 - val_loss: 0.0560\n",
            "Epoch 2/50\n",
            "122/122 [==============================] - 2s 15ms/step - loss: 0.0416 - val_loss: 0.0591\n",
            "Epoch 3/50\n",
            "122/122 [==============================] - 2s 15ms/step - loss: 0.0256 - val_loss: 0.0481\n",
            "Epoch 4/50\n",
            "122/122 [==============================] - 3s 27ms/step - loss: 0.0181 - val_loss: 0.0404\n",
            "Epoch 5/50\n",
            "122/122 [==============================] - 2s 14ms/step - loss: 0.0163 - val_loss: 0.0278\n",
            "Epoch 6/50\n",
            "122/122 [==============================] - 2s 14ms/step - loss: 0.0152 - val_loss: 0.0189\n",
            "Epoch 7/50\n",
            "122/122 [==============================] - 2s 15ms/step - loss: 0.0149 - val_loss: 0.0165\n",
            "Epoch 8/50\n",
            "122/122 [==============================] - 2s 15ms/step - loss: 0.0148 - val_loss: 0.0156\n",
            "Epoch 9/50\n",
            "122/122 [==============================] - 2s 13ms/step - loss: 0.0147 - val_loss: 0.0152\n",
            "Epoch 10/50\n",
            "122/122 [==============================] - 2s 15ms/step - loss: 0.0147 - val_loss: 0.0150\n",
            "Epoch 11/50\n",
            "122/122 [==============================] - 2s 15ms/step - loss: 0.0147 - val_loss: 0.0146\n",
            "Epoch 12/50\n",
            "122/122 [==============================] - 2s 15ms/step - loss: 0.0146 - val_loss: 0.0146\n",
            "Epoch 13/50\n",
            "122/122 [==============================] - 2s 14ms/step - loss: 0.0148 - val_loss: 0.0142\n",
            "Epoch 14/50\n",
            "122/122 [==============================] - 2s 15ms/step - loss: 0.0145 - val_loss: 0.0140\n",
            "Epoch 15/50\n",
            "122/122 [==============================] - 2s 13ms/step - loss: 0.0145 - val_loss: 0.0139\n",
            "Epoch 16/50\n",
            "122/122 [==============================] - 2s 13ms/step - loss: 0.0145 - val_loss: 0.0139\n",
            "Epoch 17/50\n",
            "122/122 [==============================] - 2s 13ms/step - loss: 0.0146 - val_loss: 0.0138\n",
            "Epoch 18/50\n",
            "122/122 [==============================] - 2s 15ms/step - loss: 0.0144 - val_loss: 0.0136\n",
            "Epoch 19/50\n",
            "122/122 [==============================] - 2s 13ms/step - loss: 0.0145 - val_loss: 0.0135\n",
            "Epoch 20/50\n",
            "122/122 [==============================] - 2s 15ms/step - loss: 0.0144 - val_loss: 0.0136\n",
            "Epoch 21/50\n",
            "122/122 [==============================] - 2s 13ms/step - loss: 0.0145 - val_loss: 0.0137\n",
            "Epoch 22/50\n",
            "122/122 [==============================] - 2s 13ms/step - loss: 0.0146 - val_loss: 0.0135\n",
            "Epoch 23/50\n",
            "122/122 [==============================] - 2s 15ms/step - loss: 0.0144 - val_loss: 0.0137\n",
            "Epoch 24/50\n",
            "122/122 [==============================] - 2s 15ms/step - loss: 0.0145 - val_loss: 0.0134\n",
            "Epoch 25/50\n",
            "122/122 [==============================] - 2s 15ms/step - loss: 0.0145 - val_loss: 0.0138\n",
            "Epoch 26/50\n",
            "122/122 [==============================] - 2s 12ms/step - loss: 0.0147 - val_loss: 0.0135\n",
            "Epoch 27/50\n",
            "122/122 [==============================] - 2s 13ms/step - loss: 0.0144 - val_loss: 0.0134\n",
            "Epoch 28/50\n",
            "122/122 [==============================] - 2s 13ms/step - loss: 0.0144 - val_loss: 0.0134\n",
            "Epoch 29/50\n",
            "122/122 [==============================] - 2s 15ms/step - loss: 0.0144 - val_loss: 0.0134\n",
            "Epoch 30/50\n",
            "122/122 [==============================] - 2s 13ms/step - loss: 0.0144 - val_loss: 0.0134\n",
            "Epoch 31/50\n",
            "122/122 [==============================] - 2s 15ms/step - loss: 0.0144 - val_loss: 0.0133\n",
            "Epoch 32/50\n",
            "122/122 [==============================] - 2s 15ms/step - loss: 0.0144 - val_loss: 0.0133\n",
            "Epoch 33/50\n",
            "122/122 [==============================] - 2s 13ms/step - loss: 0.0144 - val_loss: 0.0134\n",
            "Epoch 34/50\n",
            "122/122 [==============================] - 2s 15ms/step - loss: 0.0144 - val_loss: 0.0133\n",
            "Epoch 35/50\n",
            "122/122 [==============================] - 2s 13ms/step - loss: 0.0144 - val_loss: 0.0134\n",
            "Epoch 36/50\n",
            "122/122 [==============================] - 2s 13ms/step - loss: 0.0144 - val_loss: 0.0134\n",
            "Epoch 37/50\n",
            "122/122 [==============================] - 2s 14ms/step - loss: 0.0144 - val_loss: 0.0134\n",
            "Epoch 38/50\n",
            "122/122 [==============================] - 2s 15ms/step - loss: 0.0144 - val_loss: 0.0134\n",
            "Epoch 39/50\n",
            "122/122 [==============================] - 2s 16ms/step - loss: 0.0144 - val_loss: 0.0134\n",
            "Epoch 40/50\n",
            "122/122 [==============================] - 2s 14ms/step - loss: 0.0144 - val_loss: 0.0134\n",
            "Epoch 41/50\n",
            "122/122 [==============================] - 2s 15ms/step - loss: 0.0144 - val_loss: 0.0133\n",
            "Epoch 42/50\n",
            "122/122 [==============================] - 2s 15ms/step - loss: 0.0144 - val_loss: 0.0134\n",
            "Epoch 43/50\n",
            "122/122 [==============================] - 2s 15ms/step - loss: 0.0144 - val_loss: 0.0133\n",
            "Epoch 44/50\n",
            "122/122 [==============================] - 2s 14ms/step - loss: 0.0144 - val_loss: 0.0133\n",
            "Epoch 45/50\n",
            "122/122 [==============================] - 2s 14ms/step - loss: 0.0144 - val_loss: 0.0133\n",
            "Epoch 46/50\n",
            "122/122 [==============================] - 2s 15ms/step - loss: 0.0144 - val_loss: 0.0133\n",
            "Epoch 47/50\n",
            "122/122 [==============================] - 2s 15ms/step - loss: 0.0144 - val_loss: 0.0135\n",
            "Epoch 48/50\n",
            "122/122 [==============================] - 2s 15ms/step - loss: 0.0145 - val_loss: 0.0135\n",
            "Epoch 49/50\n",
            "122/122 [==============================] - 2s 16ms/step - loss: 0.0143 - val_loss: 0.0134\n",
            "Epoch 50/50\n",
            "122/122 [==============================] - 2s 15ms/step - loss: 0.0143 - val_loss: 0.0134\n"
          ]
        },
        {
          "output_type": "display_data",
          "data": {
            "text/plain": [
              "<Figure size 432x288 with 1 Axes>"
            ],
            "image/png": "[encoded data removed]"
          },
          "metadata": {
            "needs_background": "light"
          }
        }
      ]
    },
    {
      "cell_type": "markdown",
      "source": [
        "# Evaluate Model\n",
        "After the model is fit, we can forecast for the entire test dataset.\n",
        "\n",
        "We combine the forecast with the test dataset and invert the scaling. We also invert scaling on the test dataset with the expected pollution numbers.\n",
        "\n",
        "With forecasts and actual values in their original scale, we can then calculate an error score for the model. In this case, we calculate the Root Mean Squared Error (RMSE) that gives error in the same units as the variable itself."
      ],
      "metadata": {
        "id": "2s9kJW0RqcZp"
      }
    },
    {
      "cell_type": "code",
      "source": [
        "# make a prediction\n",
        "yhat = model.predict(test_X)\n",
        "test_X = test_X.reshape((test_X.shape[0], test_X.shape[2]))\n",
        "# invert scaling for forecast\n",
        "inv_yhat = concatenate((yhat, test_X[:, 1:]), axis=1)\n",
        "inv_yhat = scaler.inverse_transform(inv_yhat)\n",
        "inv_yhat = inv_yhat[:,0]\n",
        "# invert scaling for actual\n",
        "test_y = test_y.reshape((len(test_y), 1))\n",
        "inv_y = concatenate((test_y, test_X[:, 1:]), axis=1)\n",
        "inv_y = scaler.inverse_transform(inv_y)\n",
        "inv_y = inv_y[:,0]\n",
        "# calculate RMSE\n",
        "rmse = sqrt(mean_squared_error(inv_y, inv_yhat))\n",
        "print('Test RMSE: %.3f' % rmse)"
      ],
      "metadata": {
        "colab": {
          "base_uri": "https://localhost:8080/"
        },
        "id": "uyfml4vQqcLw",
        "outputId": "62af793e-1c47-4134-edc2-683cc0639c41"
      },
      "execution_count": 39,
      "outputs": [
        {
          "output_type": "stream",
          "name": "stdout",
          "text": [
            "1095/1095 [==============================] - 3s 2ms/step\n",
            "Test RMSE: 26.474\n"
          ]
        }
      ]
    },
    {
      "cell_type": "code",
      "source": [],
      "metadata": {
        "id": "RaOf491Rqrh5"
      },
      "execution_count": 39,
      "outputs": []
    }
  ]
}